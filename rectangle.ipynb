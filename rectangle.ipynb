{
 "cells": [
  {
   "cell_type": "code",
   "execution_count": 2,
   "metadata": {},
   "outputs": [
    {
     "name": "stdout",
     "output_type": "stream",
     "text": [
      "Enter Length of Rectangle: \n",
      "7\n",
      "Enter width of Rectangle: \n",
      "7\n",
      "Perimeter =  28\n"
     ]
    }
   ],
   "source": [
    "print(\"Enter Length of Rectangle: \")\n",
    "l = int(input())\n",
    "print(\"Enter width of Rectangle: \")\n",
    "b = int(input())\n",
    "p = 2*(l+b)\n",
    "print(\"Perimeter = \", p)"
   ]
  },
  {
   "cell_type": "code",
   "execution_count": null,
   "metadata": {},
   "outputs": [],
   "source": []
  }
 ],
 "metadata": {
  "kernelspec": {
   "display_name": "Python 3",
   "language": "python",
   "name": "python3"
  },
  "language_info": {
   "codemirror_mode": {
    "name": "ipython",
    "version": 3
   },
   "file_extension": ".py",
   "mimetype": "text/x-python",
   "name": "python",
   "nbconvert_exporter": "python",
   "pygments_lexer": "ipython3",
   "version": "3.7.6"
  }
 },
 "nbformat": 4,
 "nbformat_minor": 4
}
